{
 "cells": [
  {
   "cell_type": "code",
   "execution_count": 2,
   "metadata": {
    "ExecuteTime": {
     "end_time": "2022-01-22T17:48:11.639342Z",
     "start_time": "2022-01-22T17:48:08.640455Z"
    }
   },
   "outputs": [],
   "source": [
    "import mysql.connector\n",
    "from mysql.connector import Error\n",
    "import pandas as pd"
   ]
  },
  {
   "cell_type": "markdown",
   "metadata": {},
   "source": [
    "# Project-3-Database\n",
    "## Use SQL database to incorporate the data\n",
    "Before we use python to connect with database and create the sp500.csv we executed simple sql querries in mySQL Workbench.\n",
    "Those queries presented below:\n",
    "\n",
    "\\>> create database Quotes  ## to create and initialise an empty database with name Quotes \n",
    "\n",
    "\\>> use Quoted              ## to use the created database\n",
    "\n",
    "and finally we run sp500.sql to create and initialise the gspc table"
   ]
  },
  {
   "cell_type": "markdown",
   "metadata": {},
   "source": [
    "At first, we initialise the connection with the database in order to execute queries throw this. "
   ]
  },
  {
   "cell_type": "code",
   "execution_count": 6,
   "metadata": {
    "ExecuteTime": {
     "end_time": "2022-01-22T17:56:00.356710Z",
     "start_time": "2022-01-22T17:56:00.343747Z"
    }
   },
   "outputs": [],
   "source": [
    "def create_db_connection(host_name, user_name, user_password, db_name):\n",
    "    connection = None\n",
    "    try:\n",
    "        connection = mysql.connector.connect(\n",
    "            host=host_name,\n",
    "            user=user_name,\n",
    "            passwd=user_password,\n",
    "            database=db_name\n",
    "        )\n",
    "        print(\"MySQL Database connection successful\")\n",
    "    except Error as err:\n",
    "        print(f\"Error: '{err}'\")\n",
    "\n",
    "    return connection"
   ]
  },
  {
   "cell_type": "code",
   "execution_count": 9,
   "metadata": {
    "ExecuteTime": {
     "end_time": "2022-01-22T17:59:21.848373Z",
     "start_time": "2022-01-22T17:59:21.806478Z"
    }
   },
   "outputs": [
    {
     "name": "stdout",
     "output_type": "stream",
     "text": [
      "MySQL Database connection successful\n"
     ]
    }
   ],
   "source": [
    "import mysql.connector\n",
    "pw = \"******\" #passward needed\n",
    "connection = create_db_connection('127.0.0.1', 'root', pw,  'Quotes')"
   ]
  },
  {
   "cell_type": "code",
   "execution_count": 14,
   "metadata": {
    "ExecuteTime": {
     "end_time": "2022-01-22T18:02:08.642541Z",
     "start_time": "2022-01-22T18:02:08.481975Z"
    }
   },
   "outputs": [],
   "source": [
    "# Execute query to take the entire table\n",
    "def read_query(connection, query):\n",
    "    cursor = connection.cursor()\n",
    "    result = None\n",
    "    try:\n",
    "        cursor.execute(query)\n",
    "        result = cursor.fetchall()\n",
    "        return result\n",
    "    except Error as err:\n",
    "        print(f\"Error: '{err}'\")\n",
    "        \n",
    "        \n",
    "q1 = \"\"\"\n",
    "SELECT *\n",
    "FROM gspc;\n",
    "\"\"\"\n",
    "\n",
    "results = read_query(connection, q1)\n",
    "data = []\n",
    "for result in results:\n",
    "  data.append(result)"
   ]
  },
  {
   "cell_type": "code",
   "execution_count": 15,
   "metadata": {
    "ExecuteTime": {
     "end_time": "2022-01-22T18:02:17.227070Z",
     "start_time": "2022-01-22T18:02:17.218097Z"
    }
   },
   "outputs": [
    {
     "data": {
      "text/plain": [
       "list"
      ]
     },
     "execution_count": 15,
     "metadata": {},
     "output_type": "execute_result"
    }
   ],
   "source": [
    "type(data)"
   ]
  },
  {
   "cell_type": "code",
   "execution_count": 17,
   "metadata": {
    "ExecuteTime": {
     "end_time": "2022-01-22T18:03:21.798441Z",
     "start_time": "2022-01-22T18:03:21.725639Z"
    }
   },
   "outputs": [
    {
     "data": {
      "text/html": [
       "<div>\n",
       "<style scoped>\n",
       "    .dataframe tbody tr th:only-of-type {\n",
       "        vertical-align: middle;\n",
       "    }\n",
       "\n",
       "    .dataframe tbody tr th {\n",
       "        vertical-align: top;\n",
       "    }\n",
       "\n",
       "    .dataframe thead th {\n",
       "        text-align: right;\n",
       "    }\n",
       "</style>\n",
       "<table border=\"1\" class=\"dataframe\">\n",
       "  <thead>\n",
       "    <tr style=\"text-align: right;\">\n",
       "      <th></th>\n",
       "      <th>Index</th>\n",
       "      <th>GSPC.Open</th>\n",
       "      <th>GSPC.High</th>\n",
       "      <th>GSPC.Low</th>\n",
       "      <th>GSPC.Close</th>\n",
       "      <th>GSPC.Volume</th>\n",
       "      <th>GSPC.Adjusted</th>\n",
       "    </tr>\n",
       "  </thead>\n",
       "  <tbody>\n",
       "    <tr>\n",
       "      <th>0</th>\n",
       "      <td>1970-01-02</td>\n",
       "      <td>92.06</td>\n",
       "      <td>93.54</td>\n",
       "      <td>91.79</td>\n",
       "      <td>93.00</td>\n",
       "      <td>8050000</td>\n",
       "      <td>93.00</td>\n",
       "    </tr>\n",
       "    <tr>\n",
       "      <th>1</th>\n",
       "      <td>1970-01-05</td>\n",
       "      <td>93.00</td>\n",
       "      <td>94.25</td>\n",
       "      <td>92.53</td>\n",
       "      <td>93.46</td>\n",
       "      <td>11490000</td>\n",
       "      <td>93.46</td>\n",
       "    </tr>\n",
       "    <tr>\n",
       "      <th>2</th>\n",
       "      <td>1970-01-06</td>\n",
       "      <td>93.46</td>\n",
       "      <td>93.81</td>\n",
       "      <td>92.13</td>\n",
       "      <td>92.82</td>\n",
       "      <td>11460000</td>\n",
       "      <td>92.82</td>\n",
       "    </tr>\n",
       "    <tr>\n",
       "      <th>3</th>\n",
       "      <td>1970-01-07</td>\n",
       "      <td>92.82</td>\n",
       "      <td>93.38</td>\n",
       "      <td>91.93</td>\n",
       "      <td>92.63</td>\n",
       "      <td>10010000</td>\n",
       "      <td>92.63</td>\n",
       "    </tr>\n",
       "    <tr>\n",
       "      <th>4</th>\n",
       "      <td>1970-01-08</td>\n",
       "      <td>92.63</td>\n",
       "      <td>93.47</td>\n",
       "      <td>91.99</td>\n",
       "      <td>92.68</td>\n",
       "      <td>10670000</td>\n",
       "      <td>92.68</td>\n",
       "    </tr>\n",
       "    <tr>\n",
       "      <th>...</th>\n",
       "      <td>...</td>\n",
       "      <td>...</td>\n",
       "      <td>...</td>\n",
       "      <td>...</td>\n",
       "      <td>...</td>\n",
       "      <td>...</td>\n",
       "      <td>...</td>\n",
       "    </tr>\n",
       "    <tr>\n",
       "      <th>10017</th>\n",
       "      <td>2009-09-09</td>\n",
       "      <td>1025.36</td>\n",
       "      <td>1036.34</td>\n",
       "      <td>1023.97</td>\n",
       "      <td>1033.37</td>\n",
       "      <td>5202550000</td>\n",
       "      <td>1033.37</td>\n",
       "    </tr>\n",
       "    <tr>\n",
       "      <th>10018</th>\n",
       "      <td>2009-09-10</td>\n",
       "      <td>1032.99</td>\n",
       "      <td>1044.14</td>\n",
       "      <td>1028.04</td>\n",
       "      <td>1044.14</td>\n",
       "      <td>5191380000</td>\n",
       "      <td>1044.14</td>\n",
       "    </tr>\n",
       "    <tr>\n",
       "      <th>10019</th>\n",
       "      <td>2009-09-11</td>\n",
       "      <td>1043.92</td>\n",
       "      <td>1048.18</td>\n",
       "      <td>1038.40</td>\n",
       "      <td>1042.73</td>\n",
       "      <td>4922600000</td>\n",
       "      <td>1042.73</td>\n",
       "    </tr>\n",
       "    <tr>\n",
       "      <th>10020</th>\n",
       "      <td>2009-09-14</td>\n",
       "      <td>1040.15</td>\n",
       "      <td>1049.74</td>\n",
       "      <td>1035.00</td>\n",
       "      <td>1049.34</td>\n",
       "      <td>4979610000</td>\n",
       "      <td>1049.34</td>\n",
       "    </tr>\n",
       "    <tr>\n",
       "      <th>10021</th>\n",
       "      <td>2009-09-15</td>\n",
       "      <td>1049.03</td>\n",
       "      <td>1056.04</td>\n",
       "      <td>1043.42</td>\n",
       "      <td>1052.63</td>\n",
       "      <td>6185620000</td>\n",
       "      <td>1052.63</td>\n",
       "    </tr>\n",
       "  </tbody>\n",
       "</table>\n",
       "<p>10022 rows × 7 columns</p>\n",
       "</div>"
      ],
      "text/plain": [
       "           Index   GSPC.Open  GSPC.High  GSPC.Low  GSPC.Close  GSPC.Volume  \\\n",
       "0      1970-01-02      92.06      93.54     91.79       93.00      8050000   \n",
       "1      1970-01-05      93.00      94.25     92.53       93.46     11490000   \n",
       "2      1970-01-06      93.46      93.81     92.13       92.82     11460000   \n",
       "3      1970-01-07      92.82      93.38     91.93       92.63     10010000   \n",
       "4      1970-01-08      92.63      93.47     91.99       92.68     10670000   \n",
       "...           ...        ...        ...       ...         ...          ...   \n",
       "10017  2009-09-09    1025.36    1036.34   1023.97     1033.37   5202550000   \n",
       "10018  2009-09-10    1032.99    1044.14   1028.04     1044.14   5191380000   \n",
       "10019  2009-09-11    1043.92    1048.18   1038.40     1042.73   4922600000   \n",
       "10020  2009-09-14    1040.15    1049.74   1035.00     1049.34   4979610000   \n",
       "10021  2009-09-15    1049.03    1056.04   1043.42     1052.63   6185620000   \n",
       "\n",
       "       GSPC.Adjusted  \n",
       "0              93.00  \n",
       "1              93.46  \n",
       "2              92.82  \n",
       "3              92.63  \n",
       "4              92.68  \n",
       "...              ...  \n",
       "10017        1033.37  \n",
       "10018        1044.14  \n",
       "10019        1042.73  \n",
       "10020        1049.34  \n",
       "10021        1052.63  \n",
       "\n",
       "[10022 rows x 7 columns]"
      ]
     },
     "execution_count": 17,
     "metadata": {},
     "output_type": "execute_result"
    }
   ],
   "source": [
    "df = pd.DataFrame(data, columns=[\"Index \", \"GSPC.Open\", \"GSPC.High\", \"GSPC.Low\", \"GSPC.Close\", \"GSPC.Volume\", \"GSPC.Adjusted\"])\n",
    "df"
   ]
  },
  {
   "cell_type": "code",
   "execution_count": null,
   "metadata": {},
   "outputs": [],
   "source": [
    "df.to_csv('C:\\Users/panag/Documents/pse/project/Project_3_-_ML_for_time_series_data/Project 3 - ML for time series data/')"
   ]
  }
 ],
 "metadata": {
  "kernelspec": {
   "display_name": "Python 3",
   "language": "python",
   "name": "python3"
  },
  "language_info": {
   "codemirror_mode": {
    "name": "ipython",
    "version": 3
   },
   "file_extension": ".py",
   "mimetype": "text/x-python",
   "name": "python",
   "nbconvert_exporter": "python",
   "pygments_lexer": "ipython3",
   "version": "3.8.5"
  },
  "latex_envs": {
   "LaTeX_envs_menu_present": true,
   "autoclose": false,
   "autocomplete": true,
   "bibliofile": "biblio.bib",
   "cite_by": "apalike",
   "current_citInitial": 1,
   "eqLabelWithNumbers": true,
   "eqNumInitial": 1,
   "hotkeys": {
    "equation": "Ctrl-E",
    "itemize": "Ctrl-I"
   },
   "labels_anchors": false,
   "latex_user_defs": false,
   "report_style_numbering": false,
   "user_envs_cfg": false
  },
  "toc": {
   "base_numbering": 1,
   "nav_menu": {},
   "number_sections": true,
   "sideBar": true,
   "skip_h1_title": false,
   "title_cell": "Table of Contents",
   "title_sidebar": "Contents",
   "toc_cell": false,
   "toc_position": {},
   "toc_section_display": true,
   "toc_window_display": false
  },
  "varInspector": {
   "cols": {
    "lenName": 16,
    "lenType": 16,
    "lenVar": 40
   },
   "kernels_config": {
    "python": {
     "delete_cmd_postfix": "",
     "delete_cmd_prefix": "del ",
     "library": "var_list.py",
     "varRefreshCmd": "print(var_dic_list())"
    },
    "r": {
     "delete_cmd_postfix": ") ",
     "delete_cmd_prefix": "rm(",
     "library": "var_list.r",
     "varRefreshCmd": "cat(var_dic_list()) "
    }
   },
   "types_to_exclude": [
    "module",
    "function",
    "builtin_function_or_method",
    "instance",
    "_Feature"
   ],
   "window_display": false
  }
 },
 "nbformat": 4,
 "nbformat_minor": 4
}
